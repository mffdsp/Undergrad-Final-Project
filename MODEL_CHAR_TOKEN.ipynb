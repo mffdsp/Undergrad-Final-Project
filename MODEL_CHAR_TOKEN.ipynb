{
 "cells": [
  {
   "cell_type": "code",
   "execution_count": null,
   "metadata": {},
   "outputs": [],
   "source": [
    "import torch\n",
    "import torch.nn as nn\n",
    "from torch.nn import functional as F\n",
    "from torchtext.transforms import SentencePieceTokenizer\n",
    "from torch.hub import load_state_dict_from_url"
   ]
  },
  {
   "cell_type": "markdown",
   "metadata": {},
   "source": [
    "### Data Load"
   ]
  },
  {
   "cell_type": "code",
   "execution_count": null,
   "metadata": {},
   "outputs": [],
   "source": [
    "DATA_PATH = \"./data/data.txt\"\n",
    "device = \"cuda\" if torch.cuda.is_available() else \"cpu\"\n",
    "\n",
    "torch.manual_seed(1337)"
   ]
  },
  {
   "cell_type": "code",
   "execution_count": null,
   "metadata": {},
   "outputs": [],
   "source": [
    "# Transformer base hyperparams\n",
    "block_size = 256\n",
    "batch_size = 64\n",
    "max_iters = 8000\n",
    "eval_interval = 1000\n",
    "learning_rate = 1e-4\n",
    "\n",
    "# Model Size\n",
    "eval_iters = 200\n",
    "n_embd = 384\n",
    "n_head = 6\n",
    "n_layer = 6\n",
    "\n",
    "# Regularization || Optimization\n",
    "dropout = 0.2\n",
    "weight_decay = 1e-6"
   ]
  },
  {
   "cell_type": "code",
   "execution_count": null,
   "metadata": {},
   "outputs": [],
   "source": [
    "vocab_size = len(chars)\n",
    "\n",
    "# create a mapping from characters to integers (Replace with tiktoken) https://github.com/openai/tiktoken\n",
    "stoi = {ch: i for i, ch in enumerate(chars)}\n",
    "itos = {i: ch for i, ch in enumerate(chars)}\n",
    "\n",
    "encode = lambda s: [\n",
    "    stoi[c] for c in s\n",
    "]  # encoder: take a string, output a list of integers\n",
    "decode = lambda l: \"\".join(\n",
    "    [itos[i] for i in l]\n",
    ")  # decoder: take a list of integers, output a string"
   ]
  },
  {
   "cell_type": "code",
   "execution_count": null,
   "metadata": {},
   "outputs": [],
   "source": [
    "data = torch.tensor(encode(text), dtype=torch.long)\n",
    "\n",
    "n = int(0.8 * len(data))\n",
    "train_data = data[:n]\n",
    "val_data = data[n:]"
   ]
  },
  {
   "cell_type": "markdown",
   "metadata": {},
   "source": [
    "### Data batch"
   ]
  },
  {
   "cell_type": "code",
   "execution_count": null,
   "metadata": {},
   "outputs": [],
   "source": [
    "def get_batch(split):\n",
    "    \"\"\"\n",
    "    Generates a training or validation batch.\n",
    "\n",
    "    Parameters:\n",
    "    - split (str): Either \"train\" or \"val\" indicating the data split.\n",
    "\n",
    "    Returns:\n",
    "    - x (torch.Tensor): Input tensor of shape (batch_size, block_size).\n",
    "    - y (torch.Tensor): Target tensor of shape (batch_size, block_size).\n",
    "    \"\"\"\n",
    "    data = train_data if split == \"train\" else val_data\n",
    "    ix = torch.randint(len(data) - block_size, (batch_size,))\n",
    "    x = torch.stack([data[i : i + block_size] for i in ix])\n",
    "    y = torch.stack([data[i + 1 : i + block_size + 1] for i in ix])\n",
    "    x, y = x.to(device), y.to(device)\n",
    "    return x, y\n",
    "\n",
    "\n",
    "@torch.no_grad()\n",
    "def estimate_loss():\n",
    "    \"\"\"\n",
    "    Estimates the mean loss on the training and validation sets.\n",
    "\n",
    "    Returns:\n",
    "    - out (dict): Dictionary containing mean losses for \"train\" and \"val\" splits.\n",
    "    \"\"\"\n",
    "    \n",
    "    out = {}\n",
    "    model.eval()\n",
    "    for split in [\"train\", \"val\"]:\n",
    "        losses = torch.zeros(eval_iters)\n",
    "        for k in range(eval_iters):\n",
    "            X, Y = get_batch(split)\n",
    "            logits, loss = model(X, Y)\n",
    "            losses[k] = loss.item()\n",
    "        out[split] = losses.mean()\n",
    "    model.train()\n",
    "    return out"
   ]
  },
  {
   "cell_type": "markdown",
   "metadata": {},
   "source": [
    "### Head of self-attention"
   ]
  },
  {
   "cell_type": "code",
   "execution_count": null,
   "metadata": {},
   "outputs": [],
   "source": [
    "class Head(nn.Module):\n",
    "    \"\"\"\n",
    "    One head of self-attention.\n",
    "\n",
    "    Parameters:\n",
    "    - head_size (int): The size of the attention head.\n",
    "    \"\"\"\n",
    "\n",
    "    def __init__(self, head_size):\n",
    "        super().__init__()\n",
    "        self.key = nn.Linear(n_embd, head_size, bias=False)\n",
    "        self.query = nn.Linear(n_embd, head_size, bias=False)\n",
    "        self.value = nn.Linear(n_embd, head_size, bias=False)\n",
    "        self.register_buffer(\"tril\", torch.tril(torch.ones(block_size, block_size)))\n",
    "\n",
    "        self.dropout = nn.Dropout(dropout)\n",
    "\n",
    "    def forward(self, x):\n",
    "        \"\"\"\n",
    "        Forward pass of the self-attention head.\n",
    "\n",
    "        Parameters:\n",
    "        - x (torch.Tensor): Input tensor of shape (B, T, C), where B is the batch size,\n",
    "          T is the sequence length, and C is the number of channels.\n",
    "\n",
    "        Returns:\n",
    "        - out (torch.Tensor): Output tensor after self-attention of shape (B, T, head_size).\n",
    "        \"\"\"\n",
    "        \n",
    "        B, T, C = x.shape\n",
    "        k = self.key(x)\n",
    "        q = self.query(x)\n",
    "        \n",
    "        # compute attention scores (\"affinities\")\n",
    "        wei = (\n",
    "            q @ k.transpose(-2, -1) * k.shape[-1] ** -0.5\n",
    "        ) \n",
    "        \n",
    "        wei = wei.masked_fill(self.tril[:T, :T] == 0, float(\"-inf\"))  # (B, T, T)\n",
    "        wei = F.softmax(wei, dim=-1)  # (B, T, T)\n",
    "        wei = self.dropout(wei)\n",
    "        \n",
    "        v = self.value(x)\n",
    "        out = wei @ v \n",
    "        return out"
   ]
  },
  {
   "cell_type": "markdown",
   "metadata": {},
   "source": [
    "### MultiHeadAttention\n"
   ]
  },
  {
   "cell_type": "code",
   "execution_count": null,
   "metadata": {},
   "outputs": [],
   "source": [
    "class MultiHeadAttention(nn.Module):\n",
    "    \"\"\"\n",
    "    Multiple heads of self-attention in parallel.\n",
    "\n",
    "    Parameters:\n",
    "    - num_heads (int): The number of attention heads.\n",
    "    - head_size (int): The size of each attention head.\n",
    "    \"\"\"\n",
    "\n",
    "    def __init__(self, num_heads, head_size):\n",
    "        super().__init__()\n",
    "        self.heads = nn.ModuleList([Head(head_size) for _ in range(num_heads)])\n",
    "        self.proj = nn.Linear(head_size * num_heads, n_embd)\n",
    "        self.dropout = nn.Dropout(dropout)\n",
    "\n",
    "    def forward(self, x):\n",
    "        \"\"\"\n",
    "        Forward pass of the multi-head self-attention.\n",
    "\n",
    "        Parameters:\n",
    "        - x (torch.Tensor): Input tensor of shape (B, T, C), where B is the batch size,\n",
    "          T is the sequence length, and C is the number of channels.\n",
    "\n",
    "        Returns:\n",
    "        - out (torch.Tensor): Output tensor after multi-head self-attention of shape (B, T, n_embd).\n",
    "        \"\"\"\n",
    "        \n",
    "        out = torch.cat([h(x) for h in self.heads], dim=-1)\n",
    "        out = self.dropout(self.proj(out))\n",
    "        return out"
   ]
  },
  {
   "cell_type": "markdown",
   "metadata": {},
   "source": [
    "### FeedFoward Layer"
   ]
  },
  {
   "cell_type": "code",
   "execution_count": null,
   "metadata": {},
   "outputs": [],
   "source": [
    "class FeedFoward(nn.Module):\n",
    "    \"\"\"\n",
    "    A simple linear layer followed by a non-linearity and dropout.\n",
    "\n",
    "    Parameters:\n",
    "    - n_embd (int): The embedding size.\n",
    "\n",
    "    Notes:\n",
    "    The feedforward network consists of two linear layers with a SiLU activation\n",
    "    function in between, followed by a dropout layer.\n",
    "\n",
    "    Input:\n",
    "    - x (torch.Tensor): Input tensor of shape (B, T, n_embd), where B is the batch size,\n",
    "      T is the sequence length, and n_embd is the embedding size.\n",
    "\n",
    "    Output:\n",
    "    - out (torch.Tensor): Output tensor after the feedforward network of shape (B, T, n_embd).\n",
    "    \"\"\"\n",
    "\n",
    "    def __init__(self, n_embd):\n",
    "        super().__init__()\n",
    "        self.net = nn.Sequential(\n",
    "            nn.Linear(n_embd, 4 * n_embd),\n",
    "            nn.SiLU(),\n",
    "            nn.Linear(4 * n_embd, n_embd),\n",
    "            nn.Dropout(dropout),\n",
    "        )\n",
    "\n",
    "    def forward(self, x):\n",
    "        \"\"\"\n",
    "        Forward pass of the feedforward network.\n",
    "\n",
    "        Parameters:\n",
    "        - x (torch.Tensor): Input tensor of shape (B, T, n_embd), where B is the batch size,\n",
    "          T is the sequence length, and n_embd is the embedding size.\n",
    "\n",
    "        Returns:\n",
    "        - out (torch.Tensor): Output tensor after the feedforward network of shape (B, T, n_embd).\n",
    "        \"\"\"\n",
    "        return self.net(x)"
   ]
  },
  {
   "cell_type": "markdown",
   "metadata": {},
   "source": [
    "### Transformer Block\n"
   ]
  },
  {
   "cell_type": "code",
   "execution_count": null,
   "metadata": {},
   "outputs": [],
   "source": [
    "class Block(nn.Module):\n",
    "    \"\"\"\n",
    "    Transformer Block: Communication followed by Computation.\n",
    "\n",
    "    Parameters:\n",
    "    - embedding_dim (int): The embedding dimension.\n",
    "    - num_attention_heads (int): The number of attention heads.\n",
    "\n",
    "    Notes:\n",
    "    The block consists of a Multi-Head Self-Attention layer, followed by a Feedforward\n",
    "    layer, both followed by Layer Normalization.\n",
    "\n",
    "    Input:\n",
    "    - x (torch.Tensor): Input tensor with shape (B, T, embedding_dim), where B is the batch size,\n",
    "      T is the sequence length, and embedding_dim is the embedding dimension.\n",
    "\n",
    "    Output:\n",
    "    - out (torch.Tensor): Output tensor after the transformer block with shape (B, T, embedding_dim).\n",
    "    \"\"\"\n",
    "\n",
    "    def __init__(self, n_embd, n_head):\n",
    "        super().__init__()\n",
    "\n",
    "        head_size = embedding_dim // num_attention_heads\n",
    "        self.multi_head_attention = MultiHeadAttention(num_attention_heads, head_size)\n",
    "\n",
    "        self.feedforward = FeedForward(embedding_dim)\n",
    "        self.layer_norm1 = nn.LayerNorm(embedding_dim)\n",
    "        self.layer_norm2 = nn.LayerNorm(embedding_dim)\n",
    "\n",
    "    def forward(self, x):\n",
    "        \"\"\"\n",
    "        Forward pass of the transformer block.\n",
    "\n",
    "        Parameters:\n",
    "        - x (torch.Tensor): Input tensor with shape (B, T, embedding_dim), where B is the batch size,\n",
    "          T is the sequence length, and embedding_dim is the embedding dimension.\n",
    "\n",
    "        Returns:\n",
    "        - out (torch.Tensor): Output tensor after the transformer block with shape (B, T, embedding_dim).\n",
    "        \"\"\"\n",
    "\n",
    "        x = x + self.multi_head_attention(self.layer_norm1(x))\n",
    "        x = x + self.feedforward(self.layer_norm2(x))\n",
    "        return x"
   ]
  },
  {
   "cell_type": "markdown",
   "metadata": {},
   "source": [
    "### Generative Language Model using a Transformer architecture."
   ]
  },
  {
   "cell_type": "code",
   "execution_count": null,
   "metadata": {},
   "outputs": [],
   "source": [
    "class GenerativeLanguageModel(nn.Module):\n",
    "    \"\"\"\n",
    "    Generative Language Model using a Transformer architecture.\n",
    "\n",
    "    Attributes:\n",
    "    - token_embedding_table (nn.Embedding): Lookup table for token embeddings.\n",
    "    - position_embedding_table (nn.Embedding): Lookup table for position embeddings.\n",
    "    - blocks (nn.Sequential): Transformer blocks for processing embeddings.\n",
    "    - ln_f (nn.LayerNorm): Final layer normalization.\n",
    "    - lm_head (nn.Linear): Linear layer for language modeling prediction.\n",
    "\n",
    "    Methods:\n",
    "    - forward(idx, targets=None): Forward pass of the model.\n",
    "    - generate(idx, max_new_tokens): Generate new tokens based on the input indices.\n",
    "    \"\"\"\n",
    "\n",
    "    def __init__(self):\n",
    "        super().__init__()\n",
    "        # each token directly reads off the logits for the next token from a lookup table\n",
    "        self.token_embedding_table = nn.Embedding(vocab_size, n_embd)\n",
    "        self.position_embedding_table = nn.Embedding(block_size, n_embd)\n",
    "        self.blocks = nn.Sequential(\n",
    "            *[Block(n_embd, n_head=n_head) for _ in range(n_layer)]\n",
    "        )\n",
    "        self.ln_f = nn.LayerNorm(n_embd)  # final layer norm\n",
    "        self.lm_head = nn.Linear(n_embd, vocab_size)\n",
    "\n",
    "        self.apply(self._init_weights)\n",
    "\n",
    "    def _init_weights(self, module):\n",
    "        if isinstance(module, nn.Linear):\n",
    "            torch.nn.init.normal_(module.weight, mean=0.0, std=0.02)\n",
    "            if module.bias is not None:\n",
    "                torch.nn.init.zeros_(module.bias)\n",
    "        elif isinstance(module, nn.Embedding):\n",
    "            torch.nn.init.normal_(module.weight, mean=0.0, std=0.02)\n",
    "\n",
    "    def forward(self, idx, targets=None):\n",
    "        \"\"\"\n",
    "        The forward pass takes input indices, performs embedding lookup, adds positional embeddings,\n",
    "        passes through transformer blocks, and produces language modeling predictions.\n",
    "        \n",
    "        Returns:\n",
    "        - logits (torch.Tensor): Output logits from the language model.\n",
    "        - loss (torch.Tensor): Language modeling loss, calculated only if targets are provided during training.\n",
    "        \"\"\"\n",
    "        \n",
    "        B, T = idx.shape\n",
    "\n",
    "        # idx and targets are both (B,T) tensor of integers\n",
    "        tok_emb = self.token_embedding_table(idx)\n",
    "        pos_emb = self.position_embedding_table(torch.arange(T, device=device))\n",
    "        x = pos_emb + tok_emb\n",
    "        x = self.blocks(x)\n",
    "        x = self.ln_f(x)\n",
    "        logits = self.lm_head(x)\n",
    "\n",
    "        if targets is None:\n",
    "            loss = None\n",
    "        else:\n",
    "            B, T, C = logits.shape\n",
    "            logits = logits.view(B * T, C)\n",
    "            targets = targets.view(B * T)\n",
    "\n",
    "            # Apply log_softmax to logits for better numerical stability\n",
    "            log_probs = F.log_softmax(logits, dim=-1)\n",
    "\n",
    "            # Use negative log-likelihood loss\n",
    "            loss = F.nll_loss(log_probs, targets)\n",
    "\n",
    "            # # cross_entropy\n",
    "            # loss = F.cross_entropy(logits, targets)\n",
    "\n",
    "        return logits, loss\n",
    "\n",
    "    def generate(self, idx, max_new_tokens):\n",
    "        \"\"\"\n",
    "        The generation method extends the input sequence by sampling new tokens from the model's output.\n",
    "        \"\"\"\n",
    "        \n",
    "        for i in range(max_new_tokens):\n",
    "\n",
    "            idx_cond = idx[:, -block_size:]\n",
    "            logits, loss = self(idx_cond)\n",
    "            \n",
    "            logits = logits[:, -1, :]\n",
    "            \n",
    "            # apply softmax to get probabilities\n",
    "            probs = F.softmax(logits, dim=-1)\n",
    "            \n",
    "            idx_next = torch.multinomial(probs, num_samples=1)\n",
    "\n",
    "            idx = torch.cat((idx, idx_next), dim=1)\n",
    "        return idx"
   ]
  },
  {
   "cell_type": "markdown",
   "metadata": {},
   "source": [
    "### Create an instance of the GenerativeLanguageModel\n"
   ]
  },
  {
   "cell_type": "code",
   "execution_count": null,
   "metadata": {},
   "outputs": [],
   "source": [
    "model = GenerativeLanguageModel()\n",
    "m = model.to(device)"
   ]
  },
  {
   "cell_type": "markdown",
   "metadata": {},
   "source": [
    "### Define the optimizer"
   ]
  },
  {
   "cell_type": "code",
   "execution_count": null,
   "metadata": {},
   "outputs": [],
   "source": [
    "optimizer = torch.optim.AdamW(\n",
    "    model.parameters(), lr=learning_rate, weight_decay=weight_decay\n",
    ")"
   ]
  },
  {
   "cell_type": "markdown",
   "metadata": {},
   "source": [
    "### Training loop"
   ]
  },
  {
   "cell_type": "code",
   "execution_count": null,
   "metadata": {},
   "outputs": [],
   "source": [
    "for iter in range(max_iters):\n",
    "    print(f\"Epoch {iter+1}\", end=\"\\r\")\n",
    "\n",
    "    # Every once in a while, evaluate the loss on train and val sets\n",
    "    if iter % eval_interval == 0 or iter == max_iters - 1:\n",
    "        losses = estimate_loss()\n",
    "\n",
    "        print(\n",
    "            f\"step {iter}: train loss {losses['train']:.4f}, val loss {losses['val']:.4f}\"\n",
    "        )\n",
    "\n",
    "    # Sample a batch of data\n",
    "    xb, yb = get_batch(\"train\")\n",
    "\n",
    "    # Forward pass and compute the loss\n",
    "    logits, loss = model(xb, yb)\n",
    "    \n",
    "    # Zero the gradients, perform backpropagation, and update the weights\n",
    "    optimizer.zero_grad(set_to_none=True)\n",
    "    loss.backward()\n",
    "    optimizer.step()"
   ]
  },
  {
   "cell_type": "markdown",
   "metadata": {},
   "source": [
    "Saving "
   ]
  },
  {
   "cell_type": "markdown",
   "metadata": {},
   "source": [
    "### Saving Model\n"
   ]
  },
  {
   "cell_type": "code",
   "execution_count": null,
   "metadata": {},
   "outputs": [],
   "source": [
    "import pickle\n",
    "\n",
    "model_pkl_file = \"model_befoer_tuning.pkl\"\n",
    "\n",
    "with open(model_pkl_file, 'wb') as file:  \n",
    "    pickle.dump(model, file)\n",
    "\n",
    "torch.save(model.state_dict(), \"model_befoer_tuning.pt\")\n",
    "\n",
    "with open(model_pkl_file, \"wb\") as file:\n",
    "    pickle.dump(model, file)"
   ]
  },
  {
   "cell_type": "markdown",
   "metadata": {},
   "source": [
    "### Loading Model"
   ]
  },
  {
   "cell_type": "code",
   "execution_count": null,
   "metadata": {},
   "outputs": [],
   "source": [
    "model = GenerativeLanguageModel()\n",
    "m = model.to(device)\n",
    "model.load_state_dict(torch.load('model_befoer_tuning.pt'))"
   ]
  },
  {
   "cell_type": "markdown",
   "metadata": {},
   "source": [
    "### Model Test "
   ]
  },
  {
   "cell_type": "code",
   "execution_count": null,
   "metadata": {},
   "outputs": [],
   "source": [
    "# Input example\n",
    "input_text = \"Hi Junior, i need some \"\n",
    "\n",
    "context = torch.tensor(encode(input_text), dtype=torch.long, device=device).unsqueeze(0)\n",
    "\n",
    "# Evaluate model\n",
    "y_predict = decode(m.generate(context, max_new_tokens=500)[0].tolist())\n",
    "\n",
    "print(y_predict)"
   ]
  }
 ],
 "metadata": {
  "language_info": {
   "name": "python"
  }
 },
 "nbformat": 4,
 "nbformat_minor": 2
}
